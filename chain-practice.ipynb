{
 "cells": [
  {
   "cell_type": "code",
   "execution_count": 72,
   "id": "60087725-554d-494a-ac8a-87bbefa0f50d",
   "metadata": {},
   "outputs": [],
   "source": [
    "from langchain_core.messages import AIMessage, HumanMessage,AnyMessage\n",
    "\n",
    "messages = [AIMessage(content=\"How can I help you?\",name=\"Model\")]\n",
    "messages.append(HumanMessage(content=\"tell me whats the time now?\",name=\"Bilal\"))\n",
    "messages.append(AIMessage(content=\"The current time depends on your timezone, but as of now, the UTC time is 2024-12-08 08:05:18 UTC.\",name=\"Model\"))\n",
    "messages.append(HumanMessage(content=\"Whats the time in Pakistan?\",name=\"Bilal\"))\n",
    "messages.append(AIMessage(content=\"Time in Pakistan: 2024-12-08 13:05:18 (1:05 PM).\",name=\"Model\"))\n",
    "messages.append(HumanMessage(content=\"Thanks and don't response me again.\",name=\"Bilal\"))"
   ]
  },
  {
   "cell_type": "code",
   "execution_count": 2,
   "id": "e750cbb6-02f4-4dfe-a98f-e8f142566eee",
   "metadata": {},
   "outputs": [
    {
     "name": "stdout",
     "output_type": "stream",
     "text": [
      "==================================\u001b[1m Ai Message \u001b[0m==================================\n",
      "Name: Model\n",
      "\n",
      "How can I help you?\n",
      "================================\u001b[1m Human Message \u001b[0m=================================\n",
      "Name: Bilal\n",
      "\n",
      "tell me whats the time now?\n",
      "==================================\u001b[1m Ai Message \u001b[0m==================================\n",
      "Name: Model\n",
      "\n",
      "The current time depends on your timezone, but as of now, the UTC time is 2024-12-08 08:05:18 UTC.\n",
      "================================\u001b[1m Human Message \u001b[0m=================================\n",
      "Name: Bilal\n",
      "\n",
      "Whats the time in Pakistan?\n",
      "==================================\u001b[1m Ai Message \u001b[0m==================================\n",
      "Name: Model\n",
      "\n",
      "Time in Pakistan: 2024-12-08 13:05:18 (1:05 PM).\n",
      "================================\u001b[1m Human Message \u001b[0m=================================\n",
      "Name: Bilal\n",
      "\n",
      "Thanks and don't response me again.\n"
     ]
    }
   ],
   "source": [
    "for m in messages:\n",
    "    m.pretty_print()"
   ]
  },
  {
   "cell_type": "code",
   "execution_count": 4,
   "id": "b4f61798-bfca-41bf-a45b-d94cdd60169e",
   "metadata": {},
   "outputs": [],
   "source": [
    "import os, getpass\n",
    "\n",
    "def _set_env(var: str):\n",
    "    if not os.environ.get(var):\n",
    "        os.environ[var] = getpass.getpass(f\"{var}: \")\n",
    "\n",
    "_set_env(\"OPENAI_API_KEY\")"
   ]
  },
  {
   "cell_type": "code",
   "execution_count": 6,
   "id": "91ef875f-2b5c-4c0f-b0ab-de5f7843a2dc",
   "metadata": {},
   "outputs": [
    {
     "data": {
      "text/plain": [
       "langchain_core.messages.ai.AIMessage"
      ]
     },
     "execution_count": 6,
     "metadata": {},
     "output_type": "execute_result"
    }
   ],
   "source": [
    "from langchain_openai import ChatOpenAI\n",
    "llm = ChatOpenAI(model=\"gpt-3.5-turbo\")\n",
    "result = llm.invoke(messages)\n",
    "type(result)"
   ]
  },
  {
   "cell_type": "code",
   "execution_count": 7,
   "id": "b55e0a21-7fff-4df9-86f9-c1f4eac5d5b2",
   "metadata": {},
   "outputs": [
    {
     "data": {
      "text/plain": [
       "AIMessage(content=\"You're welcome! If you have any more questions in the future, feel free to ask. Goodbye!\", additional_kwargs={'refusal': None}, response_metadata={'token_usage': {'completion_tokens': 22, 'prompt_tokens': 124, 'total_tokens': 146, 'completion_tokens_details': {'accepted_prediction_tokens': 0, 'audio_tokens': 0, 'reasoning_tokens': 0, 'rejected_prediction_tokens': 0}, 'prompt_tokens_details': {'audio_tokens': 0, 'cached_tokens': 0}}, 'model_name': 'gpt-3.5-turbo-0125', 'system_fingerprint': None, 'finish_reason': 'stop', 'logprobs': None}, id='run-7f49138b-7493-4fcb-85fb-c19e90c56a30-0', usage_metadata={'input_tokens': 124, 'output_tokens': 22, 'total_tokens': 146, 'input_token_details': {'audio': 0, 'cache_read': 0}, 'output_token_details': {'audio': 0, 'reasoning': 0}})"
      ]
     },
     "execution_count": 7,
     "metadata": {},
     "output_type": "execute_result"
    }
   ],
   "source": [
    "result"
   ]
  },
  {
   "cell_type": "code",
   "execution_count": 9,
   "id": "1493a32b-284e-4813-8f13-0c4cb93467e2",
   "metadata": {},
   "outputs": [
    {
     "name": "stdout",
     "output_type": "stream",
     "text": [
      "==================================\u001b[1m Ai Message \u001b[0m==================================\n",
      "\n",
      "You're welcome! If you have any more questions in the future, feel free to ask. Goodbye!\n"
     ]
    }
   ],
   "source": [
    "result.pretty_print()"
   ]
  },
  {
   "cell_type": "markdown",
   "id": "14ea0eaf-8aa8-4917-851b-ad73a14a8e3e",
   "metadata": {},
   "source": [
    "**tool call**"
   ]
  },
  {
   "cell_type": "code",
   "execution_count": 56,
   "id": "cb23623f-e118-4d03-90ea-777eba520dd5",
   "metadata": {},
   "outputs": [],
   "source": [
    "# define a function\n",
    "def multiply_numbers(a:int,b:int) -> int:\n",
    "    return a*b*2 \n",
    "def powerer(a:int,b:int) -> int:\n",
    "    return a**b "
   ]
  },
  {
   "cell_type": "code",
   "execution_count": 43,
   "id": "0833ab19-78dd-4afc-a2ac-d02313743014",
   "metadata": {},
   "outputs": [
    {
     "data": {
      "text/plain": [
       "24"
      ]
     },
     "execution_count": 43,
     "metadata": {},
     "output_type": "execute_result"
    }
   ],
   "source": [
    "multiply_numbers(3,4)"
   ]
  },
  {
   "cell_type": "code",
   "execution_count": 57,
   "id": "09abf563-c421-4145-8bda-a5cf94a72822",
   "metadata": {},
   "outputs": [],
   "source": [
    "llm_with_tools = llm.bind_tools([multiply_numbers,powerer])"
   ]
  },
  {
   "cell_type": "code",
   "execution_count": 31,
   "id": "309d6a18-5a7e-4085-a928-7a223b078c28",
   "metadata": {},
   "outputs": [
    {
     "data": {
      "text/plain": [
       "AIMessage(content='2 multiplied by 3 equals 6.', additional_kwargs={'refusal': None}, response_metadata={'token_usage': {'completion_tokens': 9, 'prompt_tokens': 18, 'total_tokens': 27, 'completion_tokens_details': {'accepted_prediction_tokens': 0, 'audio_tokens': 0, 'reasoning_tokens': 0, 'rejected_prediction_tokens': 0}, 'prompt_tokens_details': {'audio_tokens': 0, 'cached_tokens': 0}}, 'model_name': 'gpt-3.5-turbo-0125', 'system_fingerprint': None, 'finish_reason': 'stop', 'logprobs': None}, id='run-4313db11-29b8-4936-a279-ac2b22da037a-0', usage_metadata={'input_tokens': 18, 'output_tokens': 9, 'total_tokens': 27, 'input_token_details': {'audio': 0, 'cache_read': 0}, 'output_token_details': {'audio': 0, 'reasoning': 0}})"
      ]
     },
     "execution_count": 31,
     "metadata": {},
     "output_type": "execute_result"
    }
   ],
   "source": [
    "tool_call = llm.invoke([HumanMessage(content=f\"What is 2 multiplied by 3\", name=\"Bilal\")])\n",
    "tool_call"
   ]
  },
  {
   "cell_type": "code",
   "execution_count": 32,
   "id": "a5643705-8749-4ec2-b9ab-bb629d42d36e",
   "metadata": {},
   "outputs": [
    {
     "name": "stdout",
     "output_type": "stream",
     "text": [
      "==================================\u001b[1m Ai Message \u001b[0m==================================\n",
      "\n",
      "2 multiplied by 3 equals 6.\n"
     ]
    }
   ],
   "source": [
    "tool_call.pretty_print()"
   ]
  },
  {
   "cell_type": "code",
   "execution_count": 62,
   "id": "06c2885f-eb5a-40c0-8c21-8aa94db48543",
   "metadata": {},
   "outputs": [],
   "source": [
    "llm_with_tools_call = llm_with_tools.invoke([HumanMessage(\"Whats the 2 power 3?\",name =\"Bilal\")])"
   ]
  },
  {
   "cell_type": "code",
   "execution_count": 63,
   "id": "0470dc6d-2b31-4112-8d78-d8c0447e626f",
   "metadata": {},
   "outputs": [
    {
     "data": {
      "text/plain": [
       "AIMessage(content='', additional_kwargs={'tool_calls': [{'id': 'call_w9fU8jTmIytrlIl7QUDZJ2TX', 'function': {'arguments': '{\"a\":2,\"b\":3}', 'name': 'powerer'}, 'type': 'function'}], 'refusal': None}, response_metadata={'token_usage': {'completion_tokens': 18, 'prompt_tokens': 70, 'total_tokens': 88, 'completion_tokens_details': {'accepted_prediction_tokens': 0, 'audio_tokens': 0, 'reasoning_tokens': 0, 'rejected_prediction_tokens': 0}, 'prompt_tokens_details': {'audio_tokens': 0, 'cached_tokens': 0}}, 'model_name': 'gpt-3.5-turbo-0125', 'system_fingerprint': None, 'finish_reason': 'tool_calls', 'logprobs': None}, id='run-49964adf-1170-4646-8ea7-be0c09042036-0', tool_calls=[{'name': 'powerer', 'args': {'a': 2, 'b': 3}, 'id': 'call_w9fU8jTmIytrlIl7QUDZJ2TX', 'type': 'tool_call'}], usage_metadata={'input_tokens': 70, 'output_tokens': 18, 'total_tokens': 88, 'input_token_details': {'audio': 0, 'cache_read': 0}, 'output_token_details': {'audio': 0, 'reasoning': 0}})"
      ]
     },
     "execution_count": 63,
     "metadata": {},
     "output_type": "execute_result"
    }
   ],
   "source": [
    "llm_with_tools_call"
   ]
  },
  {
   "cell_type": "code",
   "execution_count": 60,
   "id": "97cbf7ae-2c53-4cbd-997a-843fdba4c842",
   "metadata": {},
   "outputs": [
    {
     "name": "stdout",
     "output_type": "stream",
     "text": [
      "==================================\u001b[1m Ai Message \u001b[0m==================================\n",
      "Tool Calls:\n",
      "  multiply_numbers (call_cOTKq5orZva08MevOBN1Mp9A)\n",
      " Call ID: call_cOTKq5orZva08MevOBN1Mp9A\n",
      "  Args:\n",
      "    a: 3\n",
      "    b: 2\n"
     ]
    }
   ],
   "source": [
    "llm_with_tools_call.pretty_print()"
   ]
  },
  {
   "cell_type": "markdown",
   "id": "f8b8efaf-220f-4046-a544-34d91910d418",
   "metadata": {},
   "source": [
    "**Message as a state**"
   ]
  },
  {
   "cell_type": "code",
   "execution_count": 70,
   "id": "c0fb977d-48a7-4646-a614-f8af9626bf8c",
   "metadata": {},
   "outputs": [],
   "source": [
    "from typing import TypedDict,List,Annotated\n",
    "from langgraph.graph.message import add_messages\n",
    "\n",
    "class MessageState(TypedDict):\n",
    "    messages:Annotated[List[AnyMessage],add_messages]"
   ]
  },
  {
   "cell_type": "code",
   "execution_count": 71,
   "id": "45e2b9da-448f-4223-b320-e8a10db91539",
   "metadata": {},
   "outputs": [],
   "source": [
    "# Alternative\n",
    "from langgraph.graph import MessageState\n",
    "\n",
    "class MessageState(MessageState):\n",
    "    pass\n",
    "\n",
    "\n"
   ]
  },
  {
   "cell_type": "code",
   "execution_count": 73,
   "id": "b162a5d4-707e-4a52-83ed-97456d76061d",
   "metadata": {},
   "outputs": [
    {
     "data": {
      "text/plain": [
       "[AIMessage(content='How can I help you?', additional_kwargs={}, response_metadata={}, name='Model'),\n",
       " HumanMessage(content='tell me whats the time now?', additional_kwargs={}, response_metadata={}, name='Bilal'),\n",
       " AIMessage(content='The current time depends on your timezone, but as of now, the UTC time is 2024-12-08 08:05:18 UTC.', additional_kwargs={}, response_metadata={}, name='Model'),\n",
       " HumanMessage(content='Whats the time in Pakistan?', additional_kwargs={}, response_metadata={}, name='Bilal'),\n",
       " AIMessage(content='Time in Pakistan: 2024-12-08 13:05:18 (1:05 PM).', additional_kwargs={}, response_metadata={}, name='Model'),\n",
       " HumanMessage(content=\"Thanks and don't response me again.\", additional_kwargs={}, response_metadata={}, name='Bilal')]"
      ]
     },
     "execution_count": 73,
     "metadata": {},
     "output_type": "execute_result"
    }
   ],
   "source": [
    "messages"
   ]
  },
  {
   "cell_type": "code",
   "execution_count": 76,
   "id": "bbad55da-4ad1-4c37-b8fd-b4365b044303",
   "metadata": {},
   "outputs": [
    {
     "data": {
      "text/plain": [
       "[AIMessage(content='How can I help you?', additional_kwargs={}, response_metadata={}, name='Model', id='22e7fd2e-b2aa-40c6-a716-0bc4c1353b09'),\n",
       " HumanMessage(content='tell me whats the time now?', additional_kwargs={}, response_metadata={}, name='Bilal', id='9d76ab5b-7373-4f0c-ac40-d3d9316d8e2f'),\n",
       " AIMessage(content='The current time depends on your timezone, but as of now, the UTC time is 2024-12-08 08:05:18 UTC.', additional_kwargs={}, response_metadata={}, name='Model', id='4eee32bd-9634-4a3a-b307-2d65bb28a65d'),\n",
       " HumanMessage(content='Whats the time in Pakistan?', additional_kwargs={}, response_metadata={}, name='Bilal', id='9f399c43-663f-4289-9b4b-211ff177ab5d'),\n",
       " AIMessage(content='Time in Pakistan: 2024-12-08 13:05:18 (1:05 PM).', additional_kwargs={}, response_metadata={}, name='Model', id='cf1af688-8beb-421c-8fe7-6ba474f3b1f6'),\n",
       " HumanMessage(content=\"Thanks and don't response me again.\", additional_kwargs={}, response_metadata={}, name='Bilal', id='4e997b32-eac1-4acc-b3d8-123c69f81833'),\n",
       " AIMessage(content='Thanks for trusting me?', additional_kwargs={}, response_metadata={}, name='Model', id='ca2c097b-639e-4101-b0cb-2285f8b803b6')]"
      ]
     },
     "execution_count": 76,
     "metadata": {},
     "output_type": "execute_result"
    }
   ],
   "source": [
    "new_message = [AIMessage(content='Thanks for trusting me?', name='Model')]\n",
    "\n",
    "add_messages(messages,new_message)"
   ]
  },
  {
   "cell_type": "markdown",
   "id": "401329c3-6322-44fe-8065-280a8b078b02",
   "metadata": {},
   "source": [
    "**Create a Graph**"
   ]
  },
  {
   "cell_type": "code",
   "execution_count": 80,
   "id": "e6bf8a98-b3a5-4a7c-9da8-e94feddb2382",
   "metadata": {},
   "outputs": [],
   "source": [
    "from langgraph.graph import START,END,StateGraph\n",
    "from IPython.display import display, Image\n",
    "\n",
    "def tool_call_function(state:MessageState):\n",
    "    return {\"message\": [llm_with_tools.invoke(state.get(\"messages\",[]))] }\n",
    "\n",
    "\n",
    "builder = StateGraph(MessageState)\n",
    "builder.add_node(\"tool_call_function\",tool_call_function)\n",
    "\n",
    "builder.add_edge(START, \"tool_call_function\")\n",
    "builder.add_edge(\"tool_call_function\",END)\n",
    "\n",
    "graph = builder.compile()"
   ]
  },
  {
   "cell_type": "code",
   "execution_count": 81,
   "id": "3c928c8c-bb30-41b0-bd24-4b756452a466",
   "metadata": {},
   "outputs": [
    {
     "data": {
      "image/png": "[encoded data removed]",
      "text/plain": [
       "<IPython.core.display.Image object>"
      ]
     },
     "metadata": {},
     "output_type": "display_data"
    }
   ],
   "source": [
    "display(Image(graph.get_graph().draw_mermaid_png()))"
   ]
  },
  {
   "cell_type": "code",
   "execution_count": null,
   "id": "82d91b5c-625a-4d19-bfc3-c7aaa209b7a8",
   "metadata": {},
   "outputs": [],
   "source": []
  }
 ],
 "metadata": {
  "kernelspec": {
   "display_name": "Python 3 (ipykernel)",
   "language": "python",
   "name": "python3"
  },
  "language_info": {
   "codemirror_mode": {
    "name": "ipython",
    "version": 3
   },
   "file_extension": ".py",
   "mimetype": "text/x-python",
   "name": "python",
   "nbconvert_exporter": "python",
   "pygments_lexer": "ipython3",
   "version": "3.13.0"
  }
 },
 "nbformat": 4,
 "nbformat_minor": 5
}
