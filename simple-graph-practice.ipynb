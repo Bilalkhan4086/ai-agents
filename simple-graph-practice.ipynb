{
 "cells": [
  {
   "cell_type": "code",
   "execution_count": 4,
   "id": "b7e5b7fa-9c28-4d85-af1c-3df25bad2867",
   "metadata": {},
   "outputs": [
    {
     "name": "stdout",
     "output_type": "stream",
     "text": [
      "\n",
      "\u001b[1m[\u001b[0m\u001b[34;49mnotice\u001b[0m\u001b[1;39;49m]\u001b[0m\u001b[39;49m A new release of pip is available: \u001b[0m\u001b[31;49m24.2\u001b[0m\u001b[39;49m -> \u001b[0m\u001b[32;49m24.3.1\u001b[0m\n",
      "\u001b[1m[\u001b[0m\u001b[34;49mnotice\u001b[0m\u001b[1;39;49m]\u001b[0m\u001b[39;49m To update, run: \u001b[0m\u001b[32;49mpip install --upgrade pip\u001b[0m\n"
     ]
    }
   ],
   "source": [
    "!pip install --quiet -U langgraph typing"
   ]
  },
  {
   "cell_type": "code",
   "execution_count": 194,
   "id": "289d949b",
   "metadata": {},
   "outputs": [],
   "source": [
    "from typing import List, Annotated\n",
    "from typing_extensions import TypedDict\n",
    "from operator import add\n",
    "\n",
    "class State(TypedDict):\n",
    "    graph_state : str\n",
    "    node_ran: List[int]\n",
    "    t: Annotated[List[str],add]"
   ]
  },
  {
   "cell_type": "markdown",
   "id": "c9083bb0",
   "metadata": {},
   "source": [
    "**Define the Node**"
   ]
  },
  {
   "cell_type": "code",
   "execution_count": 195,
   "id": "2b97f7e3",
   "metadata": {},
   "outputs": [],
   "source": [
    "def node_1(state: State):\n",
    "    print(\"--Node 1--\")\n",
    "    new_node_ran = state.get(\"node_ran\",[]) + [1]\n",
    "    return {\"graph_state\": \"Bilal is\" ,\"node_ran\":new_node_ran,\"t\":[\"a\"]}\n",
    "\n",
    "def node_2(state: State):\n",
    "    print(\"--Node 2--\")\n",
    "    new_node_ran = state[\"node_ran\"] + [2]\n",
    "    return {\"graph_state\": state[\"graph_state\"] + \" happy.\",\"node_ran\":new_node_ran,\"t\":[\"b\"]}\n",
    "\n",
    "def node_3(state: State):\n",
    "    print(\"--Node 3--\")\n",
    "    new_node_ran = state[\"node_ran\"] + [3]\n",
    "    return {\"graph_state\": state[\"graph_state\"] + \" sad.\",\"node_ran\":new_node_ran,\"t\":[\"c\"]}\n",
    "\n",
    "\n",
    "def node_4(state: State):\n",
    "    print(\"--Node 4--\")\n",
    "    new_node_ran = state[\"node_ran\"] + [4]\n",
    "    return {**state,\"node_ran\":new_node_ran,\"t\":[\"d\"]}"
   ]
  },
  {
   "cell_type": "markdown",
   "id": "23d2d47a",
   "metadata": {},
   "source": [
    "**Conditional Node**"
   ]
  },
  {
   "cell_type": "code",
   "execution_count": 196,
   "id": "e94fad20",
   "metadata": {},
   "outputs": [],
   "source": [
    "import random\n",
    "from typing import Literal\n",
    "\n",
    "def decision_node(state:State) -> Literal[\"node_2\", \"node_3\", \"node_4\"]:\n",
    "    print(\"--Decision Node--\")\n",
    "    return random.choice([\"node_2\", \"node_3\", \"node_4\"])"
   ]
  },
  {
   "cell_type": "markdown",
   "id": "4cc8b12e-bd3a-408e-a517-ee7d79f6a96b",
   "metadata": {},
   "source": [
    "**Create a graph**"
   ]
  },
  {
   "cell_type": "code",
   "execution_count": 197,
   "id": "324e7947-1f56-4b52-83b1-e6192d382017",
   "metadata": {},
   "outputs": [
    {
     "data": {
      "text/plain": [
       "<langgraph.graph.state.StateGraph at 0x10fce10f0>"
      ]
     },
     "execution_count": 197,
     "metadata": {},
     "output_type": "execute_result"
    }
   ],
   "source": [
    "from langgraph.graph import START, END, StateGraph\n",
    "from IPython.display import Image, display\n",
    "\n",
    "## Building a graph\n",
    "graph_builder = StateGraph(State)\n",
    "graph_builder.add_node(\"node_1\", node_1)\n",
    "graph_builder.add_node(\"node_2\", node_2)\n",
    "graph_builder.add_node(\"node_3\", node_3)\n",
    "graph_builder.add_node(\"node_4\", node_4)"
   ]
  },
  {
   "cell_type": "code",
   "execution_count": 198,
   "id": "9455f2b1-cc65-4294-aa00-635ddd8d150e",
   "metadata": {},
   "outputs": [
    {
     "data": {
      "text/plain": [
       "<langgraph.graph.state.StateGraph at 0x10fce10f0>"
      ]
     },
     "execution_count": 198,
     "metadata": {},
     "output_type": "execute_result"
    }
   ],
   "source": [
    "## Logic for the graph\n",
    "\n",
    "graph_builder.add_edge(START, \"node_1\")\n",
    "graph_builder.add_conditional_edges(\"node_1\", decision_node)\n",
    "graph_builder.add_edge(\"node_4\", \"node_1\")\n",
    "graph_builder.add_edge(\"node_2\", END)\n",
    "graph_builder.add_edge(\"node_3\", END)"
   ]
  },
  {
   "cell_type": "code",
   "execution_count": 199,
   "id": "52631a99-55c2-4544-ab2f-c737561e90e9",
   "metadata": {},
   "outputs": [],
   "source": [
    "## Add \n",
    "graph = graph_builder.compile()"
   ]
  },
  {
   "cell_type": "code",
   "execution_count": 200,
   "id": "7fd0bbc9-3cc0-45bc-b191-89b5af45a8d6",
   "metadata": {},
   "outputs": [
    {
     "data": {
      "image/png": "[encoded data removed]",
      "text/plain": [
       "<IPython.core.display.Image object>"
      ]
     },
     "metadata": {},
     "output_type": "display_data"
    }
   ],
   "source": [
    "# View\n",
    "display(Image(graph.get_graph().draw_mermaid_png()))"
   ]
  },
  {
   "cell_type": "code",
   "execution_count": 202,
   "id": "8cf29c38-2367-40d2-9238-47c2091676f2",
   "metadata": {},
   "outputs": [
    {
     "name": "stdout",
     "output_type": "stream",
     "text": [
      "--Node 1--\n",
      "--Decision Node--\n",
      "--Node 2--\n"
     ]
    },
    {
     "data": {
      "text/plain": [
       "{'graph_state': 'Bilal is happy.', 'node_ran': [1, 2], 't': ['a', 'b']}"
      ]
     },
     "execution_count": 202,
     "metadata": {},
     "output_type": "execute_result"
    }
   ],
   "source": [
    "graph.invoke({\"graph_state\" : \"Hi, this is Lance.\"})"
   ]
  },
  {
   "cell_type": "code",
   "execution_count": null,
   "id": "82833fea-6aef-424e-a0ea-66cf76de96fa",
   "metadata": {},
   "outputs": [],
   "source": []
  }
 ],
 "metadata": {
  "kernelspec": {
   "display_name": "Python 3 (ipykernel)",
   "language": "python",
   "name": "python3"
  },
  "language_info": {
   "codemirror_mode": {
    "name": "ipython",
    "version": 3
   },
   "file_extension": ".py",
   "mimetype": "text/x-python",
   "name": "python",
   "nbconvert_exporter": "python",
   "pygments_lexer": "ipython3",
   "version": "3.13.0"
  }
 },
 "nbformat": 4,
 "nbformat_minor": 5
}
